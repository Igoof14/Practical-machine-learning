{
  "nbformat": 4,
  "nbformat_minor": 0,
  "metadata": {
    "colab": {
      "provenance": [],
      "include_colab_link": true
    },
    "kernelspec": {
      "name": "python3",
      "display_name": "Python 3"
    },
    "language_info": {
      "name": "python"
    }
  },
  "cells": [
    {
      "cell_type": "markdown",
      "metadata": {
        "id": "view-in-github",
        "colab_type": "text"
      },
      "source": [
        "<a href=\"https://colab.research.google.com/github/Igoof14/Practical-machine-learning/blob/main/GD_task.ipynb\" target=\"_parent\"><img src=\"https://colab.research.google.com/assets/colab-badge.svg\" alt=\"Open In Colab\"/></a>"
      ]
    },
    {
      "cell_type": "markdown",
      "source": [
        "# Градиентный спуск. Практика"
      ],
      "metadata": {
        "id": "2rIeJvNmzPJy"
      }
    },
    {
      "cell_type": "markdown",
      "source": [
        "## Импорт библиотек, установка константных значений"
      ],
      "metadata": {
        "id": "krXvdp0bzfJK"
      }
    },
    {
      "cell_type": "code",
      "source": [
        "import pandas as pd\n",
        "import numpy as np\n",
        "import random\n",
        "\n",
        "from sklearn.datasets import make_regression, fetch_california_housing\n",
        "from sklearn.metrics import r2_score\n",
        "from sklearn.model_selection import train_test_split\n",
        "\n",
        "import matplotlib.pyplot as plt"
      ],
      "metadata": {
        "id": "X6AuQbUpziB8"
      },
      "execution_count": 93,
      "outputs": []
    },
    {
      "cell_type": "code",
      "source": [
        "RANDOM_STATE = 123\n",
        "TRAIN_SIZE = 0.75"
      ],
      "metadata": {
        "id": "47ZRimlw6TEp"
      },
      "execution_count": 94,
      "outputs": []
    },
    {
      "cell_type": "code",
      "source": [
        "np.random.RandomState(RANDOM_STATE)"
      ],
      "metadata": {
        "id": "as1sEBKJt_Yb",
        "colab": {
          "base_uri": "https://localhost:8080/"
        },
        "outputId": "37bad592-07c5-4c43-de4e-d60590f9b40c"
      },
      "execution_count": 95,
      "outputs": [
        {
          "output_type": "execute_result",
          "data": {
            "text/plain": [
              "RandomState(MT19937) at 0x7CA780B3C440"
            ]
          },
          "metadata": {},
          "execution_count": 95
        }
      ]
    },
    {
      "cell_type": "code",
      "source": [
        "np.random.seed(RANDOM_STATE)\n",
        "\n",
        "X, y, _ = make_regression(n_samples=100000,              # число объектов\n",
        "                          n_features=10,                 # число признаков\n",
        "                          n_informative=8,               # число информативных признаков\n",
        "                          noise=100,                     # уровень шума в данных\n",
        "                          coef=True,                     # значение True используется при генерации данных\n",
        "                          random_state=RANDOM_STATE)\n",
        "\n",
        "X = pd.DataFrame(data=X, columns=np.arange(0, X.shape[1]))\n",
        "X[10] = X[6] + X[7] + np.random.random()*0.01"
      ],
      "metadata": {
        "id": "S6nTuMqGGqp2"
      },
      "execution_count": 96,
      "outputs": []
    },
    {
      "cell_type": "markdown",
      "source": [
        "## Практика"
      ],
      "metadata": {
        "id": "ii1alV-Mtheh"
      }
    },
    {
      "cell_type": "markdown",
      "source": [
        "Реализуем метод градиентного спуска для обучения линейной регрессии."
      ],
      "metadata": {
        "id": "QvAfKSZkttN6"
      }
    },
    {
      "cell_type": "markdown",
      "source": [
        "### Задание 1 (1 балл)"
      ],
      "metadata": {
        "id": "oeueMbAitu84"
      }
    },
    {
      "cell_type": "markdown",
      "source": [
        "\n",
        "Напишите функцию, вычисляющую значение весов в линейной регрессии по точной (аналитически найденной) формуле:\n",
        "\n",
        "$$w = (X^TX)^{-1}X^Ty$$\n",
        "\n",
        "Комментарий: для поиска решения в векторном виде сначала необходимо добавить единичный столбец к матрице $X$.\n",
        "Это сделано в коде."
      ],
      "metadata": {
        "id": "lm6_Ln0GoliG"
      }
    },
    {
      "cell_type": "code",
      "source": [
        "class ManualLinearRegression:\n",
        "    def ols_solution(X, y):\n",
        "        X = np.hstack((np.ones((X.shape[0], 1)), X))\n",
        "        return np.linalg.inv(X.T @ X) @ X.T @ y\n",
        "\n",
        "\n",
        "    def predict(X, w):\n",
        "        X = np.hstack((np.ones((X.shape[0], 1)), X))\n",
        "        return X @ w"
      ],
      "metadata": {
        "id": "ZrVvpU9miOga"
      },
      "execution_count": 136,
      "outputs": []
    },
    {
      "cell_type": "code",
      "source": [
        "w = ManualLinearRegression.ols_solution(X, y)\n",
        "\n",
        "predict = ManualLinearRegression.predict(X, w)\n",
        "\n",
        "print(f\"R2 score for monual regression {r2_score(y, predict).round(2)}\")"
      ],
      "metadata": {
        "colab": {
          "base_uri": "https://localhost:8080/"
        },
        "id": "Ibs0XM8AMoP7",
        "outputId": "ebef9885-9ebf-455c-fd96-24aa34093094"
      },
      "execution_count": 137,
      "outputs": [
        {
          "output_type": "stream",
          "name": "stdout",
          "text": [
            "R2 score for monual regression 0.61\n"
          ]
        }
      ]
    },
    {
      "cell_type": "code",
      "source": [
        "from sklearn.linear_model import LinearRegression\n",
        "\n",
        "model = LinearRegression()\n",
        "model.fit(X, y)\n",
        "predict_sk = model.predict(X)\n",
        "\n",
        "print(f\"R2 score for sklear {r2_score(predict_sk, y).round(2)}\")"
      ],
      "metadata": {
        "colab": {
          "base_uri": "https://localhost:8080/"
        },
        "id": "WWsozm_UPx02",
        "outputId": "a180f8c0-6970-4690-9397-9202f63ed60f"
      },
      "execution_count": 138,
      "outputs": [
        {
          "output_type": "stream",
          "name": "stdout",
          "text": [
            "R2 score for sklear 0.35\n"
          ]
        }
      ]
    },
    {
      "cell_type": "markdown",
      "source": [
        "### Задание 2 (1 балл)"
      ],
      "metadata": {
        "id": "1dzeu5eRtz6Z"
      }
    },
    {
      "cell_type": "markdown",
      "source": [
        "Заполните функцию для предсказания модели по формуле\n",
        "$$a(X)=Xw$$"
      ],
      "metadata": {
        "id": "AMBKhU7Zhaev"
      }
    },
    {
      "cell_type": "code",
      "source": [
        "def prediction(X, w):\n",
        "    X = np.hstack((np.ones((X.shape[0], 1)), X))\n",
        "    return X @ w"
      ],
      "metadata": {
        "id": "CI63O1eUhmyx"
      },
      "execution_count": 100,
      "outputs": []
    },
    {
      "cell_type": "markdown",
      "source": [
        "Продублируем функцию для вычисления значения MSE из урока"
      ],
      "metadata": {
        "id": "OaPciXsEmznh"
      }
    },
    {
      "cell_type": "code",
      "source": [
        "def compute_cost(X, y, theta):\n",
        "    m = len(y)\n",
        "    cost = (1./m) * (np.linalg.norm(X @ theta - y) ** 2)\n",
        "    return cost"
      ],
      "metadata": {
        "id": "PqzBobT-m28D"
      },
      "execution_count": 101,
      "outputs": []
    },
    {
      "cell_type": "markdown",
      "source": [
        "### Задание 3"
      ],
      "metadata": {
        "id": "y592oWsDuJ9R"
      }
    },
    {
      "cell_type": "markdown",
      "source": [
        "Скопируйте метод градиентного спуска из [урока](https://colab.research.google.com/drive/1Bos0LeQP9AAB-nrS0z8b-8ag5xRSEdty?usp=sharing) в этот ноутбук.\n"
      ],
      "metadata": {
        "id": "VFANmcnV5DWz"
      }
    },
    {
      "cell_type": "code",
      "source": [
        "def gradient_descent(X, y, learning_rate, iterations):\n",
        "\n",
        "    X = np.hstack((np.ones((X.shape[0], 1)), X)) # добавляем к Х столбец из 1\n",
        "    params = np.random.rand(X.shape[1])\n",
        "\n",
        "    m = X.shape[0]\n",
        "\n",
        "    cost_track = np.zeros((iterations,1))\n",
        "\n",
        "    for i in range(iterations):\n",
        "        params = params - 2./m * learning_rate * (X.T @ ((X @ params) - y))\n",
        "        cost_track[i] = compute_cost(X, y, params)\n",
        "\n",
        "    return cost_track, params"
      ],
      "metadata": {
        "id": "VB9oE8Sg1WG9"
      },
      "execution_count": 102,
      "outputs": []
    },
    {
      "cell_type": "markdown",
      "source": [
        "### Бонус для отважных"
      ],
      "metadata": {
        "id": "X_3A_UGWztbY"
      }
    },
    {
      "cell_type": "markdown",
      "source": [
        "Если чувствуете в себе силы, попробуйте написать SGD сами."
      ],
      "metadata": {
        "id": "GMujXdy75Lb2"
      }
    },
    {
      "cell_type": "markdown",
      "source": [
        "Модифицируйте метод градиентного спуска из урока так, чтобы это теперь был метод стохастического градиентного спуска:\n",
        "\n",
        "* на каждой итерации выбирайте один случайный индекс `j` при помощи функции `random.randint`\n",
        "\n",
        "* градиент на каждой итерации градиентного спуска считайте не как сумму градиентов по всем объектам, а только по одному объекту с индексом `j`\n",
        "\n",
        "* на каждой итерации вычисляйте значение функции потерь и сохраняйте в список `cost_track`, который верните вместе с результатом работы функции"
      ],
      "metadata": {
        "id": "_shCsTQ1pVcU"
      }
    },
    {
      "cell_type": "code",
      "source": [
        "def stochastic_gradient_descent(X, y, learning_rate, iterations):\n",
        "\n",
        "    X = np.hstack((np.ones((X.shape[0], 1)), X))\n",
        "    params = np.random.rand(X.shape[1])\n",
        "\n",
        "    j = 0\n",
        "\n",
        "    cost_track = np.zeros((iterations,1))\n",
        "\n",
        "    for i in range(iterations):\n",
        "\n",
        "        # выберите случайный индекс в диапазон от 0 до len(X)-1 включительно при помощи функции random.randint\n",
        "        j = random.randint(0, len(X)-1)\n",
        "\n",
        "        # обновите веса, используя сдвиг по градиенту только по объекту X[j] (делить на m в данном случае не нужно)\n",
        "        params = params - learning_rate * ((X[j] @ params) - y[j]) * X[j]\n",
        "        cost_track[i] = compute_cost(X, y, params)\n",
        "\n",
        "    return cost_track, params"
      ],
      "metadata": {
        "id": "fTZWxz1zpb9R"
      },
      "execution_count": 103,
      "outputs": []
    },
    {
      "cell_type": "markdown",
      "source": [
        "- Обучите линейную регрессию тремя методами (по точной формуле, с помощью GD и с помощью SGD) на данных для задачи регрессии ($X, y$). Для GD и самостоятельно написанного SGD используйте `learning_rate = 0.01, iterations = 10000`.\n",
        "\n",
        "*P.S. Если же вы используете не самописный SGD, а SGDRegressor из библиотеки sklearn.linear_model, то его объявляйте с гиперпараметрами по умолчанию, то есть в скобках при объявлении модели ничего не указывайте.*\n",
        "\n",
        "- С помощью каждого метода сделайте предсказание (на всех данных), вычислите качество предсказания r2 (`from sklearn.metrics import r2_score`). Для получения предсказания использовуйте функцию `predict`.\n"
      ],
      "metadata": {
        "id": "WnRlUa9Npi9o"
      }
    },
    {
      "cell_type": "code",
      "source": [
        "learning_rate = 0.01\n",
        "iterations = 10000"
      ],
      "metadata": {
        "id": "LTG9dESlcqsQ"
      },
      "execution_count": 123,
      "outputs": []
    },
    {
      "cell_type": "code",
      "source": [
        "w = ManualLinearRegression.ols_solution(X, y)\n",
        "\n",
        "predict = ManualLinearRegression.predict(X, w)\n",
        "\n",
        "print(f\"R2 score for monual regression {r2_score(y, predict).round(2)}\")"
      ],
      "metadata": {
        "id": "2TkO2mh5ky0m",
        "colab": {
          "base_uri": "https://localhost:8080/"
        },
        "outputId": "baea068d-aeba-43a2-82d7-03bb7e74d3bc"
      },
      "execution_count": 105,
      "outputs": [
        {
          "output_type": "stream",
          "name": "stdout",
          "text": [
            "R2 score for monual regression 0.75\n"
          ]
        }
      ]
    },
    {
      "cell_type": "code",
      "source": [
        "cost_track, params = gradient_descent(X, y, learning_rate, iterations)\n",
        "\n",
        "\n",
        "predictGD = ManualLinearRegression.predict(X, params)\n",
        "\n",
        "print(f\"R2 score for GD {r2_score(y, predictGD).round(2)}\")"
      ],
      "metadata": {
        "colab": {
          "base_uri": "https://localhost:8080/"
        },
        "id": "PmMTDHHycnXH",
        "outputId": "3711741a-a160-4728-c67d-f8b307126e77"
      },
      "execution_count": 106,
      "outputs": [
        {
          "output_type": "stream",
          "name": "stdout",
          "text": [
            "R2 score for GD 0.76\n"
          ]
        }
      ]
    },
    {
      "cell_type": "code",
      "source": [
        "cost_trackSDG, paramsSDG = stochastic_gradient_descent(X, y, learning_rate, iterations)\n",
        "\n",
        "predictSGD = ManualLinearRegression.predict(X, paramsSDG)\n",
        "\n",
        "print(f\"R2 score for GD {r2_score(y, predictSGD).round(2)}\")"
      ],
      "metadata": {
        "colab": {
          "base_uri": "https://localhost:8080/"
        },
        "id": "kDw8QGEZdd23",
        "outputId": "20dd8c0e-68c4-4b17-b8bb-ab29517cd1c9"
      },
      "execution_count": 107,
      "outputs": [
        {
          "output_type": "stream",
          "name": "stdout",
          "text": [
            "R2 score for GD 0.75\n"
          ]
        }
      ]
    },
    {
      "cell_type": "markdown",
      "source": [
        "## Quiz\n",
        "\n",
        "Чему равно значение метрики $R^2$ для аналитического подхода?\n",
        "\n",
        "Ответ округлите до сотых."
      ],
      "metadata": {
        "id": "ezvQOKaEkaLX"
      }
    },
    {
      "cell_type": "code",
      "source": [
        "print(f\"R2 score for monual regression {r2_score(y, predict).round(2)}\")"
      ],
      "metadata": {
        "id": "O_MDhoXs5tkd",
        "colab": {
          "base_uri": "https://localhost:8080/"
        },
        "outputId": "a908edd8-df80-4322-d7e2-9676c455d218"
      },
      "execution_count": 108,
      "outputs": [
        {
          "output_type": "stream",
          "name": "stdout",
          "text": [
            "R2 score for monual regression 0.75\n"
          ]
        }
      ]
    },
    {
      "cell_type": "markdown",
      "source": [
        "## Quiz\n",
        "\n",
        "Нарисуйте траекторию уменьшения ошибки при обучении градиентного спуска (это параметр `cost_track`, возвращаемый функцией).\n",
        "\n",
        "Чему приблизительно равен loss модели на последних итерациях?\n",
        "\n",
        "Выберите наиболее близкий к полученному вами ответ."
      ],
      "metadata": {
        "id": "HaasnKmj2Eje"
      }
    },
    {
      "cell_type": "code",
      "source": [
        "plt.plot(cost_track)"
      ],
      "metadata": {
        "colab": {
          "base_uri": "https://localhost:8080/",
          "height": 448
        },
        "id": "c9DtC0huhTkt",
        "outputId": "c04b1bbd-73f1-445a-de0c-a7a915fd2935"
      },
      "execution_count": 109,
      "outputs": [
        {
          "output_type": "execute_result",
          "data": {
            "text/plain": [
              "[<matplotlib.lines.Line2D at 0x7ca78097c8b0>]"
            ]
          },
          "metadata": {},
          "execution_count": 109
        },
        {
          "output_type": "display_data",
          "data": {
            "text/plain": [
              "<Figure size 640x480 with 1 Axes>"
            ],
            "image/png": "[encoded data removed]"
          },
          "metadata": {}
        }
      ]
    },
    {
      "cell_type": "code",
      "source": [
        "plt.plot(cost_trackSDG)\n"
      ],
      "metadata": {
        "id": "6yLEdtQOmCYL",
        "colab": {
          "base_uri": "https://localhost:8080/",
          "height": 448
        },
        "outputId": "de9c4a1e-be6d-42c0-88e2-4229cad8cc39"
      },
      "execution_count": 110,
      "outputs": [
        {
          "output_type": "execute_result",
          "data": {
            "text/plain": [
              "[<matplotlib.lines.Line2D at 0x7ca7809e2110>]"
            ]
          },
          "metadata": {},
          "execution_count": 110
        },
        {
          "output_type": "display_data",
          "data": {
            "text/plain": [
              "<Figure size 640x480 with 1 Axes>"
            ],
            "image/png": "[encoded data removed]"
          },
          "metadata": {}
        }
      ]
    },
    {
      "cell_type": "markdown",
      "source": [
        "## Quiz\n",
        "\n",
        "Измерьте время работы аналитического подхода, а также GD и SGD (используйте magic command [`%%time`](https://ipython.readthedocs.io/en/stable/interactive/magics.html)).\n",
        "\n",
        "Упорядочите результаты по возрастанию."
      ],
      "metadata": {
        "id": "hE7jBuyWkePj"
      }
    },
    {
      "cell_type": "markdown",
      "source": [
        "## Тестирование моделей на реальных данных\n",
        "\n",
        "В реальных задачах никто не пишет методы с нуля, если они уже реализованы в python. Самостоятельная реализация методов полезна для получения навыков программирования и более глубокого понимания алгоритмов.\n",
        "\n",
        "Давайте применим уже готовые методы из `sklearn` для решения задачи регрессии."
      ],
      "metadata": {
        "id": "7Lne3c3I1swS"
      }
    },
    {
      "cell_type": "code",
      "source": [
        "data = fetch_california_housing(as_frame=True)\n",
        "\n",
        "X = data.data\n",
        "y = data.target"
      ],
      "metadata": {
        "id": "qUhkRgYm1usp"
      },
      "execution_count": 145,
      "outputs": []
    },
    {
      "cell_type": "markdown",
      "source": [
        "Разобъем данные на трейн и тест"
      ],
      "metadata": {
        "id": "BlsxS_mb18A8"
      }
    },
    {
      "cell_type": "code",
      "source": [
        "X_train, X_test, y_train, y_test = train_test_split(\n",
        "    X,\n",
        "    y,\n",
        "    train_size=TRAIN_SIZE,\n",
        "    random_state=RANDOM_STATE\n",
        "    )"
      ],
      "metadata": {
        "id": "tKKC-nWE13ek"
      },
      "execution_count": 146,
      "outputs": []
    },
    {
      "cell_type": "markdown",
      "source": [
        "Для решения этой задачи попробуйте следующие модели:\n",
        "\n",
        "* `LinearRegression` из `sklearn`\n",
        "* `SGDRegressor` из `sklearn`\n",
        "\n",
        "Обучите модели на тренировочных данных с параметрами по умолчанию и сделайте предсказание на тесте.\n",
        "Вычислите значение $R^2$"
      ],
      "metadata": {
        "id": "1nxiq6Uq2K47"
      }
    },
    {
      "cell_type": "code",
      "source": [
        "from sklearn.linear_model import SGDRegressor"
      ],
      "metadata": {
        "id": "9SPbzz7ArDBl"
      },
      "execution_count": 147,
      "outputs": []
    },
    {
      "cell_type": "code",
      "source": [
        "model = LinearRegression()\n",
        "model.fit(X_train, y_train)\n",
        "predict = model.predict(X_test)"
      ],
      "metadata": {
        "id": "PdoNyLJy165x"
      },
      "execution_count": 153,
      "outputs": []
    },
    {
      "cell_type": "code",
      "source": [
        "modelSDG = SGDRegressor()\n",
        "modelSDG.fit(X_train, y_train)\n",
        "predictSDG = modelSDG.predict(X_test)"
      ],
      "metadata": {
        "id": "H7JgnvThqzLX"
      },
      "execution_count": 154,
      "outputs": []
    },
    {
      "cell_type": "markdown",
      "source": [
        "## Quiz\n",
        "\n",
        "Чему равно значение $R^2$ для модели LinearRegression на тестовых данных?\n",
        "\n",
        "Ответ округлите до сотых."
      ],
      "metadata": {
        "id": "hq6lwN9ZmNgL"
      }
    },
    {
      "cell_type": "code",
      "source": [
        "print(f\"R2 score LinearRegression {r2_score(y_test, predict).round(2)}\")\n",
        "print(f\"R2 score SGDRegressor {r2_score(predictSDG, y_test)}\")"
      ],
      "metadata": {
        "id": "atfZE2L0mNwz",
        "colab": {
          "base_uri": "https://localhost:8080/"
        },
        "outputId": "2f3ffa5d-d779-43d0-f42a-c429e19611a2"
      },
      "execution_count": 155,
      "outputs": [
        {
          "output_type": "stream",
          "name": "stdout",
          "text": [
            "R2 score LinearRegression 0.61\n",
            "R2 score SGDRegressor -1.4503090569033423\n"
          ]
        }
      ]
    },
    {
      "cell_type": "code",
      "source": [
        "w = ManualLinearRegression.ols_solution(X_train, y_train)\n",
        "\n",
        "predict = ManualLinearRegression.predict(X_test, w)\n",
        "\n",
        "print(f\"R2 score for monual regression {r2_score(y_test, predict).round(2)}\")"
      ],
      "metadata": {
        "colab": {
          "base_uri": "https://localhost:8080/"
        },
        "id": "JbUqSF_A14tP",
        "outputId": "b09b7cc0-b02e-40c7-9781-88a5dce2cc85"
      },
      "execution_count": 135,
      "outputs": [
        {
          "output_type": "stream",
          "name": "stdout",
          "text": [
            "R2 score for monual regression 0.61\n"
          ]
        }
      ]
    },
    {
      "cell_type": "markdown",
      "source": [
        "## Quiz\n",
        "\n",
        "Какая модель с параметрами по умолчанию лучше справилась с предсказанием стоимости домов в Калифорнии?"
      ],
      "metadata": {
        "id": "BH56-5XHl9qg"
      }
    },
    {
      "cell_type": "markdown",
      "source": [
        "## Quiz\n",
        "\n",
        "Проинтерпретируйте качество метода SGDRegressor. Выберите наиболее подходящий вариант."
      ],
      "metadata": {
        "id": "W2yCxAIL37e7"
      }
    },
    {
      "cell_type": "code",
      "source": [],
      "metadata": {
        "id": "ce6Fbt_l6HAU"
      },
      "execution_count": null,
      "outputs": []
    }
  ]
}